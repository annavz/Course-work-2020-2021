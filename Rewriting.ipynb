{
 "cells": [
  {
   "cell_type": "code",
   "execution_count": 1,
   "metadata": {},
   "outputs": [],
   "source": [
    "from russtress import Accent\n",
    "import re\n",
    "from bs4 import BeautifulSoup\n",
    "from nltk.tokenize import word_tokenize\n",
    "import pymorphy2\n",
    "from gensim.models import KeyedVectors\n",
    "from natasha import (\n",
    "    Segmenter,\n",
    "    MorphVocab,\n",
    "    \n",
    "    NewsEmbedding,\n",
    "    NewsMorphTagger,\n",
    "    Doc\n",
    ")\n",
    "from copy import deepcopy"
   ]
  },
  {
   "cell_type": "code",
   "execution_count": 8,
   "metadata": {},
   "outputs": [],
   "source": [
    "a = Accent()\n",
    "morph = pymorphy2.MorphAnalyzer()\n",
    "segmenter = Segmenter()\n",
    "emb = NewsEmbedding()\n",
    "morph_tagger = NewsMorphTagger(emb)\n",
    "morph_vocab = MorphVocab()\n",
    "morph = pymorphy2.MorphAnalyzer()\n",
    "model = KeyedVectors.load_word2vec_format('model.bin', binary=True)"
   ]
  },
  {
   "cell_type": "code",
   "execution_count": 355,
   "metadata": {},
   "outputs": [],
   "source": [
    "with open (r'rusgram\\Том _1\\172-190_edited.html', 'r') as text:\n",
    "    text = text.read()"
   ]
  },
  {
   "cell_type": "code",
   "execution_count": 356,
   "metadata": {},
   "outputs": [],
   "source": [
    "soup = BeautifulSoup(text, markupMassage=False)\n",
    "paragraphs = soup.find_all(['p','center'])"
   ]
  },
  {
   "cell_type": "code",
   "execution_count": 357,
   "metadata": {},
   "outputs": [],
   "source": [
    "clean_text = []"
   ]
  },
  {
   "cell_type": "code",
   "execution_count": 358,
   "metadata": {},
   "outputs": [],
   "source": [
    "for paragraph in paragraphs:\n",
    "    if (paragraph.name == 'center')and(paragraph.b != None):\n",
    "        paragraph_title = paragraph.find_all('b')\n",
    "        paragraph_title = [\"{}\".format(x) for x in paragraph_title]\n",
    "        paragraph_title = re.sub('<br/>', '\\n', (' ').join(paragraph_title))\n",
    "        paragraph_title = re.sub('<.+?>', '', paragraph_title)\n",
    "        clean_text.append((paragraph_title, 'paragraph_title'))\n",
    "    elif 'JUSTIFY' in paragraph.attrs.values():\n",
    "        paragraph = re.sub('\\xa0', ' ', str(paragraph))\n",
    "        paragraph = re.sub('<i>', ' example ', paragraph)\n",
    "        paragraph = re.sub('</i>', ' endexample ', paragraph)\n",
    "        paragraph = re.sub('<span style=\"letter-spacing: 3px\">', ' term ', paragraph)\n",
    "        paragraph = re.sub('</span>', ' endterm ', paragraph)\n",
    "        paragraph = re.sub('<.+?>', '', paragraph)\n",
    "        clean_text.append((paragraph, 'paragraph'))"
   ]
  },
  {
   "cell_type": "code",
   "execution_count": 359,
   "metadata": {},
   "outputs": [
    {
     "data": {
      "text/plain": [
       "'ОСНОВНЫЕ ПОНЯТИЯ МОРФЕМИКИ. \\nСЛОВООБРАЗОВАНИЕ\\n'"
      ]
     },
     "execution_count": 359,
     "metadata": {},
     "output_type": "execute_result"
    }
   ],
   "source": [
    "clean_text[0][0]"
   ]
  },
  {
   "cell_type": "code",
   "execution_count": 360,
   "metadata": {},
   "outputs": [],
   "source": [
    "def check_word(word, lang='ru'):\n",
    "    # убираем этот знак, так как иногда он фигурирует в русских словах для обозначения аффикса j, не выражающегося на письме\n",
    "    word = re.sub('j', '', word)\n",
    "    rus=set('абвгдеёжзийклмнопрстуфхцчшщъыьэюя')\n",
    "    en=set('qwertyuiopasdfghjklzxcvbnm')\n",
    "    if lang == 'ru':\n",
    "        return not rus.isdisjoint(word.lower())\n",
    "    elif lang == 'en':\n",
    "        return not en.isdisjoint(word.lower())\n",
    "    else:\n",
    "        print('Допустимые значения lang: en или rus')"
   ]
  },
  {
   "cell_type": "code",
   "execution_count": 361,
   "metadata": {},
   "outputs": [],
   "source": [
    "def check_gender(tags):\n",
    "    tags = str(tags)\n",
    "    if 'masc' in tags:\n",
    "        return 'masc'\n",
    "    elif 'femn' in tags:\n",
    "        return 'femn'\n",
    "    elif 'neut' in tags:\n",
    "        return 'neut'"
   ]
  },
  {
   "cell_type": "code",
   "execution_count": 362,
   "metadata": {},
   "outputs": [],
   "source": [
    "def check_number(tags):\n",
    "    tags = str(tags)\n",
    "    if 'sing' in tags:\n",
    "        return 'sing'\n",
    "    if 'plur' in tags:\n",
    "        return 'plur'"
   ]
  },
  {
   "cell_type": "markdown",
   "metadata": {},
   "source": [
    "Проблема: часто можно встретить слова, помеченные как примеры, перемешанными с основным текстом. Выносить одно слово из стихотворного текста как пример странно. \n",
    "\n",
    "Что делать: хочется иметь определенный лимит, например, если у нас встречается меньше n или равно слов-примеров подряд, оставлять их в тексте, но сохранять пометку example, так как подобные слова мы не можем заменять. Также, если у нас меньше или равно m слов основного текста между примерами, то включать слова основного текста в примеры. \n",
    "\n",
    "Идея: в тексте примеры обрамлены тегами example, endexample. Если это предложение, все слова будут внутри пары тегов, если перечисление, каждое слово будет внутри своей пары. Берем каждый абзац и выполняем split по началу каждого примера (тег ' example '). В итоге можем получить три вида кусков:\n",
    "* \"основной текст\"\n",
    "* \"пример\" + ' endexample '\n",
    "* \"пример\" + ' endexample ' + \"основной текст\"\n",
    "\n",
    "Учитывая то, что если подстрока, по которой производится деление, стоит в конце или в начале, split все равно выдаст 2 элемента, можно легко выявлять куски первого типа и помечать их как paragraph."
   ]
  },
  {
   "cell_type": "code",
   "execution_count": 363,
   "metadata": {},
   "outputs": [
    {
     "data": {
      "text/plain": [
       "['слово  endexample ']"
      ]
     },
     "execution_count": 363,
     "metadata": {},
     "output_type": "execute_result"
    }
   ],
   "source": [
    "'слово  endexample '.split(' example ')"
   ]
  },
  {
   "cell_type": "code",
   "execution_count": 364,
   "metadata": {},
   "outputs": [
    {
     "data": {
      "text/plain": [
       "['слово ']"
      ]
     },
     "execution_count": 364,
     "metadata": {},
     "output_type": "execute_result"
    }
   ],
   "source": [
    "'слово '.split(' example ')"
   ]
  },
  {
   "cell_type": "markdown",
   "metadata": {},
   "source": [
    "Далее мы получаем куски, которые после split'а по подстроке ' endexample ' слева содержат пример, а справа — основной текст. При этом мы знаем, что далее за основным текстом был либо конец абзаца, либо начинался следующий пример.\n",
    "\n",
    "Сделаем два допущения:\n",
    "* текст начала параграфа, если это не пример, всегда считаем достаточно длинным, чтобы включить его в основной текст\n",
    "* недостаточно длинный текст в конце параграфа, если он не является примером, включаем в пример\n",
    "\n",
    "Дальнейшая логика в коде."
   ]
  },
  {
   "cell_type": "code",
   "execution_count": 365,
   "metadata": {},
   "outputs": [],
   "source": [
    "def check_sides(text):\n",
    "    end_example = re.search('(^[^а-яА-ЯЁё]+?)[а-яА-ЯЁё]', text)\n",
    "    if end_example:\n",
    "        end_example = end_example.group(1)\n",
    "    else:\n",
    "        end_example = ''\n",
    "    start_example = re.search('\\s[^а-яА-ЯЁё]+?$', text)\n",
    "    if start_example:\n",
    "        start_example = start_example.group(0)\n",
    "    else:\n",
    "        start_example = ''\n",
    "    length = len(text)\n",
    "    length_end = len(end_example)\n",
    "    length_start = len(start_example)\n",
    "    text = text[length_end: length - length_start]\n",
    "    return end_example, start_example, text"
   ]
  },
  {
   "cell_type": "code",
   "execution_count": 366,
   "metadata": {},
   "outputs": [],
   "source": [
    "def extract_examples(paragraph, n=2, m=1):\n",
    "    parts = paragraph.split(' example ')\n",
    "    splitted = []\n",
    "    example_line = ''\n",
    "    \n",
    "    for index, part in enumerate(parts):\n",
    "        if part == '':  # параграф начинался с примера и первый элемент получился пустой строкой\n",
    "            continue\n",
    "        part = part.split(' endexample ')\n",
    "        if len(part) == 1:  # параграф начинался не с примера, вписываем основной текст\n",
    "            # проверим пунктуацию в конце текста\n",
    "            end_example, start_example, part[0] = check_sides(part[0])\n",
    "            splitted.append((part[0], 'paragraph'))\n",
    "            example_line += start_example\n",
    "        else:\n",
    "            example_line += part[0]\n",
    "            example_words = sum(1 for i in word_tokenize(example_line) if check_word(i))  # сумма идущих подряд слов-примеров\n",
    "            text_words = sum(1 for i in word_tokenize(part[1]) if check_word(i))  # считаем количество слов в основном тексте\n",
    "            if text_words <= m:\n",
    "                # добавляем основной текст в примеры, если его мало\n",
    "                # как вариант, слов основного текста может не быть вообще, но в переменной будет лежать пунктуация\n",
    "                example_line += part[1]\n",
    "            elif (example_words > n)and(text_words > m):\n",
    "                # и примеров, и основного текста много, примеры записываем как примеры, текст — как текст\n",
    "                # проверим пунктуацию по краям основного текста, потому что теги примеров обычно оставляют ее снаружи\n",
    "                end_example, start_example, part[1] = check_sides(part[1])\n",
    "                splitted.append((example_line + end_example, 'example'))\n",
    "                example_line = start_example   \n",
    "                splitted.append((part[1], 'paragraph'))\n",
    "            elif (example_words <= n)and(text_words > m):\n",
    "                # примеров мало, основного текста много, все записываем как текст\n",
    "                # проверим пунктуацию в конце текста\n",
    "                end_example, start_example, part[1] = check_sides(part[1])\n",
    "                text = ' example ' + example_line + ' endexample ' + end_example + part[1]\n",
    "                example_line = start_example  \n",
    "                splitted.append((text, 'paragraph'))\n",
    "\n",
    "    if example_line != '':  # если не обнулены примеры, вписываем\n",
    "        splitted.append((example_line, 'example'))\n",
    "\n",
    "    return splitted"
   ]
  },
  {
   "cell_type": "code",
   "execution_count": 367,
   "metadata": {},
   "outputs": [
    {
     "data": {
      "text/plain": [
       "[('Добавление постфиксального морфа дает еще  28  типов морфного строения словоформ:',\n",
       "  'paragraph'),\n",
       " (' R-pt (где-то); pr-R-pt (от-куда-то); R-s-pt (тряс-я-сь); R-s-s-pt (толк-ну-вши-сь); R-s-s-s-pt (горб-ат-и-вшись); pr-R-pt (ис-пек-ши-сь); pr-R-s-s-pt (о-глядыва|j-а|-сь); pr-R-s-s-s-pt (на-брод-яж-нича-вши-сь); pr-pr-R-s-pt (при-от-кры-вши-сь); pr-pr-R-s-s-pt (при-от-кры-ва|j-а|-сь); pr-pr-R-s-s-s-pt (по-из-гряз-ни-вши-сь); pr-pr-pr-R-s-pt (по-при-от-кры-вши-сь); pr-pr-pr-R-s-s-pt (по-при-от-кры-ва-вши-сь); R-f-pt (бер-ут-ся, как-ой-либо); pr-R-f-pt (за-тряс-ут-ся, при-сол-и-те); pr-pr-R-f-pt (при-от-кро|j-у|т-ся); prpr-pr-R-f-pt (по-при-от-кро|j-у|т-ся); R-s-f-pt (толк-н-ут-ся); R-s-s-f-pt (горд-и-вш-ий-ся); R-s-s-sf-pt (кудр-яв-и-вш-ий-ся); pr-R-s-f-pt (при-крыва|j-y|т-ся); pr-R-s-s-f-pt (рас-красн-е-вш-ий-ся, пере-шуч-ива-л-и-сь); pr-R-s-s-s-f-pt (рас-кудр-яв-и-вший-ся); pr-pr-R-s-f-pt (при-на-кры-вш-ий-ся); pr-pr-Rs-s-f-pt (пере-на-сыт-и-вш-ий-ся); pr-pr-R-s-s-s-f-pt (по-из-гряз-н-и-л-и-сь); pr-pr-pr-R-s-f-pt (по-на-выдерг-ива-ть-ся); pr-pr-pr-R-s-s-f-pt (по-на-вы-дергива-л-о-сь).',\n",
       "  'example')]"
      ]
     },
     "execution_count": 367,
     "metadata": {},
     "output_type": "execute_result"
    }
   ],
   "source": [
    "extract_examples(clean_text[83][0])"
   ]
  },
  {
   "cell_type": "code",
   "execution_count": 368,
   "metadata": {},
   "outputs": [],
   "source": [
    "def preprocess(text):\n",
    "                    \n",
    "    doc = Doc(text)\n",
    "    doc.segment(segmenter)\n",
    "    doc.tag_morph(morph_tagger)\n",
    "    \n",
    "    new_text =[]\n",
    "    flag = ''\n",
    "    for info in doc.tokens:\n",
    "        word = info.text\n",
    "        pos = info.pos\n",
    "        \n",
    "        if word not in ['example', 'endexample', 'term', 'endterm']: # термины и примеры определяются по тегам\n",
    "            pass\n",
    "        elif word == 'example':\n",
    "            flag = 'example'\n",
    "            continue\n",
    "        elif word == 'endexample':\n",
    "            flag = ''\n",
    "            continue\n",
    "        elif word == 'term':\n",
    "            flag == 'term'\n",
    "            continue\n",
    "        elif word == 'endterm':\n",
    "            flag == ''\n",
    "            continue\n",
    "\n",
    "        if (flag == '')and(check_word(word)):\n",
    "            word = (word, 'word', pos)\n",
    "        elif (flag == '')and(check_word(word, lang='en')):\n",
    "            word = (word, 'f_word', pos)\n",
    "        elif (flag == 'example')and(check_word(word)):\n",
    "            word = (word, 'example', pos)\n",
    "        elif (flag == 'term')and(check_word(word)):\n",
    "            word = (word, 'term', pos)\n",
    "        else:\n",
    "            word = (word, 'punct', pos)\n",
    "\n",
    "        new_text.append(word)\n",
    "\n",
    "    return new_text"
   ]
  },
  {
   "cell_type": "markdown",
   "metadata": {},
   "source": [
    "* example - пример\n",
    "* term - термин\n",
    "* word - слово\n",
    "* f_word - слово, содержащее латинские буквы, но не кириллицу (не термин и не пример)\n",
    "* punct - пунктуация, цифры, приписанные не буквами"
   ]
  },
  {
   "cell_type": "markdown",
   "metadata": {},
   "source": [
    "Соединим некоторые служебные слова (отрицательные частицы и непроизводные предлоги) со словами, за которыми они следуют."
   ]
  },
  {
   "cell_type": "code",
   "execution_count": 369,
   "metadata": {},
   "outputs": [],
   "source": [
    "def add_functional_words(paragraph):\n",
    "    functional_words = ['ни', 'не', 'в', 'с', 'к', 'за', 'из-под', 'из-за', 'по-над', 'у', 'над',\n",
    "                        'на', 'под', 'над', 'без', 'до', 'о', 'об', 'от', 'при', 'для', 'из', 'по']\n",
    "    new_paragraph = []\n",
    "    add = ''\n",
    "    for word in paragraph:\n",
    "        if word[0] in functional_words:\n",
    "            add = word[0] + ' '\n",
    "            continue\n",
    "        if add != '':\n",
    "            text = add + word[0]\n",
    "            word = (text, word[1], word[2])\n",
    "            new_paragraph.append(word)\n",
    "            add = ''\n",
    "        else:\n",
    "            new_paragraph.append(word)\n",
    "    return new_paragraph"
   ]
  },
  {
   "cell_type": "code",
   "execution_count": 370,
   "metadata": {},
   "outputs": [],
   "source": [
    "def final_preprocess(text):\n",
    "    text = extract_examples(text)\n",
    "    new_text = []\n",
    "    paragraph = []\n",
    "    for part in text:\n",
    "        if part[1] == 'paragraph':\n",
    "            paragraph.extend(preprocess(part[0]))\n",
    "        else:\n",
    "            paragraph = add_functional_words(paragraph)\n",
    "            new_text.append((paragraph, 'paragraph'))\n",
    "            paragraph = []\n",
    "            new_text.append(part)\n",
    "    if paragraph != []:\n",
    "        paragraph = add_functional_words(paragraph)\n",
    "        new_text.append((paragraph, 'paragraph'))\n",
    "    return new_text"
   ]
  },
  {
   "cell_type": "code",
   "execution_count": 371,
   "metadata": {},
   "outputs": [
    {
     "data": {
      "text/plain": [
       "[([('Например', 'word', 'ADV'),\n",
       "   (',', 'punct', 'PUNCT'),\n",
       "   ('предложение', 'word', 'NOUN')],\n",
       "  'paragraph'),\n",
       " ('Дом стоит на горе ', 'example'),\n",
       " ([('состоит', 'word', 'VERB'),\n",
       "   ('из четырех', 'word', 'NUM'),\n",
       "   ('словоформ', 'word', 'NOUN'),\n",
       "   (':', 'punct', 'PUNCT')],\n",
       "  'paragraph'),\n",
       " (' 1) дом, 2) стоит, 3) на, 4) горе; ', 'example'),\n",
       " ([('каждая', 'word', 'DET'),\n",
       "   ('из них', 'word', 'PRON'),\n",
       "   ('имеет', 'word', 'VERB'),\n",
       "   ('определенное', 'word', 'ADJ'),\n",
       "   ('значение', 'word', 'NOUN'),\n",
       "   (',', 'punct', 'PUNCT'),\n",
       "   ('и', 'word', 'CCONJ'),\n",
       "   ('при этом', 'word', 'PRON'),\n",
       "   ('отрезки', 'word', 'NOUN')],\n",
       "  'paragraph'),\n",
       " ('дом, стоит и на горе ', 'example'),\n",
       " ([('свободно', 'word', 'ADV'),\n",
       "   ('перемещаются', 'word', 'VERB'),\n",
       "   (':', 'punct', 'PUNCT')],\n",
       "  'paragraph'),\n",
       " ('на горе стоит дом; стоит дом на горе ', 'example'),\n",
       " ([('и', 'word', 'CCONJ'),\n",
       "   ('тому', 'word', 'PRON'),\n",
       "   ('подобное', 'word', 'ADJ'),\n",
       "   (',', 'punct', 'PUNCT'),\n",
       "   ('а', 'word', 'CCONJ'),\n",
       "   ('отрезок', 'word', 'NOUN'),\n",
       "   ('на горе', 'example', 'NOUN'),\n",
       "   ('может', 'word', 'VERB'),\n",
       "   ('включать', 'word', 'VERB'),\n",
       "   ('внутрь', 'word', 'ADP'),\n",
       "   ('себя', 'word', 'PRON'),\n",
       "   ('другие', 'word', 'ADJ'),\n",
       "   ('отрезки', 'word', 'NOUN'),\n",
       "   (',', 'punct', 'PUNCT'),\n",
       "   ('характеризующиеся', 'word', 'VERB'),\n",
       "   ('первым', 'word', 'ADJ'),\n",
       "   ('свойством', 'word', 'NOUN')],\n",
       "  'paragraph'),\n",
       " (' (на высокой горе, на очень большой горе) ', 'example'),\n",
       " ([('и', 'word', 'CCONJ'),\n",
       "   (',', 'punct', 'PUNCT'),\n",
       "   ('следовательно', 'word', 'ADV'),\n",
       "   (',', 'punct', 'PUNCT'),\n",
       "   ('не является', 'word', 'VERB'),\n",
       "   ('одной', 'word', 'NUM'),\n",
       "   ('словоформой', 'word', 'NOUN'),\n",
       "   ('.', 'punct', 'PUNCT')],\n",
       "  'paragraph')]"
      ]
     },
     "execution_count": 371,
     "metadata": {},
     "output_type": "execute_result"
    }
   ],
   "source": [
    "final_preprocess(clean_text[7][0])"
   ]
  },
  {
   "cell_type": "code",
   "execution_count": 372,
   "metadata": {},
   "outputs": [],
   "source": [
    "def count(word): #подсчет ударного слога и количества слогов в слове\n",
    "    word = word.split(' ') # не хотим, чтобы ударение проставлялась в предлогах с двумя слогами\n",
    "    if len(word) != 1:\n",
    "        funcs = ' '.join(word[:len(word) - 1])\n",
    "        word = funcs + ' ' + a.put_stress(word[-1])\n",
    "    else:\n",
    "        word = a.put_stress(word[0])\n",
    "    functional_words = ['ни', 'не', 'в', 'с', 'к', 'за', 'из-под', 'из-за', 'по-над', 'у', 'над',\n",
    "                        'на', 'под', 'над', 'без', 'до', 'о', 'об', 'от', 'ну', 'о', 'и', 'а', 'при',\n",
    "                        'для', 'из', 'по', 'но', 'же']\n",
    "    vowels = 'иёуеыаоэяю'\n",
    "    if word not in functional_words: #если слово служебное, в нем не считается ударение\n",
    "        stressed = word.split(\"'\")[0]\n",
    "        stressed = sum(1 for c in stressed if c in vowels)\n",
    "    else:\n",
    "        stressed = 0\n",
    "    syllables = sum(1 for c in word if c in vowels)\n",
    "    return stressed, syllables"
   ]
  },
  {
   "cell_type": "code",
   "execution_count": 373,
   "metadata": {},
   "outputs": [],
   "source": [
    "def count_line(line): #подсчет ударных слогов и количества слогов в строке\n",
    "    stresses_line = []\n",
    "    syllables_line = 0\n",
    "    for word in line:\n",
    "        if word[1] in ['word', 'term', 'example']:\n",
    "            stressed, syllables = count(word[0])\n",
    "            if stressed != 0:\n",
    "                stresses_line.append(syllables_line + stressed)\n",
    "            syllables_line += syllables\n",
    "    return stresses_line, syllables_line"
   ]
  },
  {
   "cell_type": "code",
   "execution_count": 374,
   "metadata": {},
   "outputs": [],
   "source": [
    "def syllables_in_line(syllables_line):\n",
    "    if syllables_line < 12:#если недостаточное количество слогов, продолжим набирать слова в строку\n",
    "        return syllables_line, 'too few syllables'\n",
    "    elif syllables_line > 17:#если слишком много слогов, меняем строку\n",
    "        return syllables_line, 'too many syllables'\n",
    "    else:\n",
    "        return syllables_line, 'syllables true'"
   ]
  },
  {
   "cell_type": "code",
   "execution_count": 375,
   "metadata": {},
   "outputs": [],
   "source": [
    "def first_stress(stresses_line):\n",
    "    if stresses_line[0] not in [1, 3, 4]:#если первое ударение не стоит на 1, 3 или 4 слоге, меняем строку\n",
    "        return stresses_line[0], 'the first stress does not suit'\n",
    "    else:\n",
    "        return stresses_line[0], 'first stress true'"
   ]
  },
  {
   "cell_type": "code",
   "execution_count": 376,
   "metadata": {},
   "outputs": [],
   "source": [
    "def last_stress(stresses_line, syllables_line):\n",
    "    if (syllables_line - stresses_line[-1]) != 1:#если последнее ударение не на предпоследний слог, меняем строку\n",
    "        return (syllables_line - stresses_line[-1]), 'the last stress does not suit'\n",
    "    else:\n",
    "        return (syllables_line - stresses_line[-1]), 'last stress true'"
   ]
  },
  {
   "cell_type": "code",
   "execution_count": 419,
   "metadata": {},
   "outputs": [],
   "source": [
    "def stresses(stresses_line, syllables_line):\n",
    "    if stresses_line[0] == 1:#в зависимости от наличия пропущенного ударного слога в начале, присваеваем кол-во слогов\n",
    "        steps = 1 #steps - ударные слоги, в том числе пропущенные\n",
    "    else:\n",
    "        steps = 2\n",
    "    checker = False #инициализируем значение флага: правильность кол-ва слогов между ударными слогами\n",
    "    for index, num in enumerate(stresses_line[-1:0:-1]):#перебираем индексы ударных слогов от последнего до второго включительно\n",
    "        index = (index + 1)*-1 #index counted from end\n",
    "        step = num - stresses_line[index -1] - 1 #количество слогов между текущим ударным слогом и предыдущим\n",
    "        if step in [1, 2, 3, 4, 5]:\n",
    "            checker = True\n",
    "            if step in [3, 4, 5]:#в зависимости от наличия \"пропущенного\" ударного слога, присваеваем кол-во слогов\n",
    "                steps += 2\n",
    "            else:\n",
    "                steps += 1\n",
    "        else:\n",
    "            checker = False\n",
    "            return index, 'wrong number of syllables between stresses' #между ударением на этом индексе и предыдущим неправильное кол-во слогов\n",
    "    if (checker == True)and(steps == 6):\n",
    "        return 0, 'true'\n",
    "    else:\n",
    "        return steps, 'wrong number of stresses'"
   ]
  },
  {
   "cell_type": "code",
   "execution_count": 378,
   "metadata": {},
   "outputs": [],
   "source": [
    "def check_line(stresses_line, syllables_line):\n",
    "    # общая проверка\n",
    "    num, message = syllables_in_line(syllables_line)\n",
    "    if message != 'syllables true':\n",
    "        return num, message\n",
    "    num, message = first_stress(stresses_line)\n",
    "    if message != 'first stress true':\n",
    "        return num, message\n",
    "    num, message = last_stress(stresses_line, syllables_line)\n",
    "    if message != 'last stress true':\n",
    "        return num, message\n",
    "    num, message = stress(stresses_line, syllables_line)\n",
    "    if message != 'true':\n",
    "        return num, message"
   ]
  },
  {
   "cell_type": "code",
   "execution_count": 379,
   "metadata": {},
   "outputs": [],
   "source": [
    "def flection(lex_neighb, tags):\n",
    "    tags = str(tags)\n",
    "    tags = re.sub(',[AGQSPMa-z-]+? ', ',', tags)\n",
    "    tags = tags.replace(\"impf,\", \"\")\n",
    "    tags = re.sub('([A-Z]) (plur|masc|femn|neut|inan)', '\\\\1,\\\\2', tags)\n",
    "    tags = tags.replace(\"Impe neut\", \"\")\n",
    "    tags = tags.split(',')\n",
    "    tags_clean = []\n",
    "    for t in tags:\n",
    "        if t:\n",
    "            if ' ' in t:\n",
    "                t1, t2 = t.split(' ')\n",
    "                t = t2\n",
    "            tags_clean.append(t)\n",
    "    tags = frozenset(tags_clean)\n",
    "    prep_for_gen = morph.parse(lex_neighb)\n",
    "    ana_array = []\n",
    "    for ana in prep_for_gen:\n",
    "        if ana.normal_form == lex_neighb:\n",
    "            ana_array.append(ana)\n",
    "    for ana in ana_array:\n",
    "        try:\n",
    "            flect = ana.inflect(tags)\n",
    "        except:\n",
    "            print(tags)\n",
    "            return None\n",
    "        if flect:\n",
    "            word_to_replace = flect.word\n",
    "            return word_to_replace\n",
    "    return None"
   ]
  },
  {
   "cell_type": "markdown",
   "metadata": {},
   "source": [
    "Универсальный список POS-тегов, используется в natasha и word2vec'е: https://universaldependencies.org/u/pos/all.html\n",
    "\n",
    "!Важно: прежде мы \"приклеивали\" предлоги и отрицательные частицы к словам. Необходимо учитывать это при замене."
   ]
  },
  {
   "cell_type": "code",
   "execution_count": 380,
   "metadata": {},
   "outputs": [],
   "source": [
    "def change_word(word, pos):\n",
    "    word = word.split(' ')\n",
    "    if len(word) != 1:\n",
    "        func = ' '.join(word[:len(word) - 1]) + ' '\n",
    "        word = word[-1]\n",
    "    else:\n",
    "        func = ''\n",
    "        word = word[0]\n",
    "    change = []\n",
    "    parsed_word = morph.parse(word)[0]\n",
    "    tags = parsed_word.tag\n",
    "    normal_form = parsed_word.normal_form + '_' + pos\n",
    "    if normal_form in model.vocab:\n",
    "        vector = model[normal_form]\n",
    "    else:\n",
    "        return change\n",
    "    synonyms = model.most_similar(positive=[vector], negative=[], topn=3)\n",
    "    synonyms = [i[0].split('_') for i in synonyms[1:]]\n",
    "    for synonym, pos_synonym in synonyms:\n",
    "        if pos == pos_synonym:\n",
    "            if pos == 'NOUN':\n",
    "                number = check_number(tags)\n",
    "                gender = check_gender(tags)\n",
    "                gender_synonym = check_gender(morph.parse(synonym)[0].tag)\n",
    "                if (number == 'sing')and(gender != gender_synonym):\n",
    "                    continue\n",
    "            if pos not in ['ADV', 'ADP', 'CCONJ', 'SCONJ', 'INTJ', 'PART']: # неизменяемые части речи\n",
    "                synonym = flection(synonym, tags)\n",
    "            if synonym:\n",
    "                change.append(func + synonym)\n",
    "    return change"
   ]
  },
  {
   "cell_type": "markdown",
   "metadata": {},
   "source": [
    "# Типы ошибок:\n",
    "\n",
    "### too few syllables\n",
    "\n",
    "Исправление: Продолжаем собирать слова.\n",
    "\n",
    "Проблема 1: далее следует кусок с примерами / конец текста.\n",
    "\n",
    "Проблема 2: конец параграфа. Стоит ли оставлять деление на абзацы или объединить их, чтобы снизить количество таких ошибок?\n",
    "\n",
    "Пока что при недостатке слов печатается None\n",
    "\n",
    "### too many syllables: \n",
    "\n",
    "Такая ситуация возникает в случае, когда в строке n слов, и на n - 1 слове минимальное количество слогов (12) не было набрано, а на n-ом слове превысило лимит (17). Это значит, что последнее слово оказалось слишком длинным (минимум 7 слогов).\n",
    "\n",
    "Исправление: укорачивать строку будем с помощью перестановки и/или замены. Перестановка: Попробуем поменять местами последнее слово со следующим, предполагая, что раз последнее слово оказалось достаточно длинным, следующее таким не окажется. Делать это будем только в том случае, если:\n",
    "\n",
    "* между словами нет пунктуации\n",
    "* текущее слово не пример\n",
    "* следующее слово не пример\n",
    "* следующее слово больше 1 слога (попытаемся избежать перемешивания союзов, непроизводных предлогов)\n",
    "* следующее слово короче по количеству слогов\n",
    "* разница между количеством слогов в нынешнем и следующем словах находится в промежутке \\[k, k + 6\\), где k — количество лишних слогов\n",
    "\n",
    "Если этот метод не помогает, переходим к замене. Попробуем подвергнуть преобразованию два варианта строки, без перестановки и с, но только в случае, если перестановка не получилась, так как разница в количестве слогов не попала в нужный интервал. Приоритет отдается оригинальной строке: если она после замены стала подходящей, строка с перестановкой не затрагивается.\n",
    "\n",
    "Логичнее всего заменять самое длинное слово, однако оно не должно быть ни примером, ни термином. Составим список таких слов, упорядоченных по количеству слогов, по убыванию. Сохраним с каждым словом индекс в оригинальной строке. Посчитаем количество слогов, от которого нам нужно избавиться: s - 17, где s — количество слогов в текущей строке.\n",
    "\n",
    "Далее необходимо найти синонимы. Учитываются следующие факторы:\n",
    "\n",
    "* род существительных в единственном числе при замене должен совпадать\n",
    "* можно брать только первые два слова, не считая оригинального, предложенных моделью для замены\n",
    "* части речи должны совпадать\n",
    "\n",
    "Дело в том, что с возрастанием косинусного расстояния сильно страдает смысл, а \"сэкономить\" слоги мы можем, заменив несколько слов в строке.\n",
    "\n",
    "Далее, каждый синоним нужно поставить в нужную форму. Если поставить в нужную форму не получается, считается, что синоним не найден.\n",
    "\n",
    "Происходит перебор упорядоченных ранее слов, внутри цикла — перебор их синонимов. Каждый раз, когда находится более короткое слово, пересчитывается число лишних слогов. Как только число лишних слогов меньше или равно нулю, а общее количество слогов в строке не меньше 12, строка считается правильной.\n",
    "\n",
    "Если ничего не поможет, вернется None и программа выдаст ошибку.\n",
    "\n",
    "### syllables true:\n",
    "\n",
    "!Важно: прежде мы сделали допущение, что в тексте могут присутствовать примеры, не более двух подряд. Если на конце сформированной по длине строки есть пример и следующее слово тоже является примером, вмещаем их в одну строку. Если длина строки будет слишком большой, проблема будет решаться функцией too_many_syllables методом замены. Помимо этого, в строку добавляются знаки препинания."
   ]
  },
  {
   "cell_type": "code",
   "execution_count": 381,
   "metadata": {},
   "outputs": [],
   "source": [
    "def too_many_syllables(line, num, num_syllables, preprocessed_text):\n",
    "    redundant = num_syllables - 17\n",
    "    if num + 1 != len(preprocessed_text):  # если текущее слово оказалось последним в подаваемом тексте\n",
    "        last_word = preprocessed_text[num]\n",
    "        next_word = preprocessed_text[num + 1]\n",
    "        length = count(last_word[0])[1]\n",
    "        length_next = count(next_word[0])[1]\n",
    "        dif = length - length_next\n",
    "        if (last_word[1] != 'example')and(next_word[1] != 'example')and(length_next > 1)and(redundant <= dif < redundant+6):\n",
    "            last_word = line[-1]\n",
    "            line[-1] = next_word\n",
    "            preprocessed_text[num + 1] = last_word\n",
    "            # перестановка удалась\n",
    "            return line\n",
    "        elif (last_word[1] != 'example')and(next_word[1] != 'example')and(length_next > 1):\n",
    "            alternative = deepcopy(line)\n",
    "            alternative[-1] = next_word\n",
    "            choose_line = [line, alternative]\n",
    "        else:\n",
    "            choose_line = [line,]\n",
    "    else:\n",
    "        choose_line = [line,]\n",
    "                    \n",
    "    for i, line in enumerate(choose_line):\n",
    "        redundant = num_syllables - 17\n",
    "        target_words = [(w[0], w[2], count(w[0])[1], num) for num, w in enumerate(line) if w[1] == 'word']\n",
    "        target_words = sorted(target_words, key=lambda x:x[2], reverse=True)\n",
    "        for w, pos, length, index in target_words:\n",
    "            synonyms = change_word(w, pos)\n",
    "            if synonyms:  # синонимы могут не найтись\n",
    "                synonyms = [(s, count(s)[1]) for s in synonyms]\n",
    "                min_synonym = sorted(synonyms, key=lambda x:x[1])[0]\n",
    "                dif = length - min_synonym[1]\n",
    "                if dif > 0:\n",
    "                    redundant -= dif\n",
    "                    line[index] = (min_synonym[0], 'word', pos)\n",
    "                if redundant <= 0:\n",
    "                    break\n",
    "        if (11 < redundant <= 0)and(i == 0):\n",
    "            # замена в оригинальной строке\n",
    "            return line\n",
    "        elif (11 < redundant <= 0)and(i == 1):\n",
    "            preprocessed_text[num + 1] = last_word\n",
    "            # замена в строке с перестановкой\n",
    "            return line"
   ]
  },
  {
   "cell_type": "markdown",
   "metadata": {},
   "source": [
    "### the first stress does not suit\n",
    "\n",
    "Исправление: находим первое по порядку слово, в котором ударение падает на 1, 3 или 4 слог. Передвигаем его в самое начало. Если передвигаемое слово является примером, за ним следует еще один пример и между ними нет знаков препинания, двигаем примеры вместе.\n",
    "\n",
    "Если подходящих слов не нашлось, переходим к замене. Составляем список слов на замену: все они должны быть с пометкой word. Для каждого кандидата подбираем возможные синонимы. Перебираем синонимы и проверяем на два условия:\n",
    "\n",
    "* ударение падает на 1, 3 или 4 слог\n",
    "* общее количество слогов в строке находится в диапазоне \\[12, 17\\]\n",
    "\n",
    "Первый подошедший синоним подставляем в начало строки, удалив оригинальное слово.\n",
    "\n",
    "В случае, если ничего не поможет, вернется None и программа выдаст ошибку."
   ]
  },
  {
   "cell_type": "code",
   "execution_count": 382,
   "metadata": {},
   "outputs": [],
   "source": [
    "def the_first_stress_does_not_suit(line, syllables_line):\n",
    "    line_check = deepcopy(line)\n",
    "    target_words = [(num, w) for num, w in enumerate(line) if count(w[0])[0] in [1, 3, 4]]\n",
    "    if len(target_words) != 0:\n",
    "        # учитываем, что до этого мы сделали допущение: внутри текста могут идти только !!!два!!! слова-примера подряд\n",
    "        target_index, target_word = target_words[0]\n",
    "        if target_word[1] == 'example' and line[target_index + 1][1] == 'example':\n",
    "            words_to_pop = [(target_index + 1, line[target_index + 1]), (target_index, target_word)]\n",
    "        else:\n",
    "            words_to_pop = [(target_index, target_word),]\n",
    "        [line.pop(index) for index, w in words_to_pop]\n",
    "        line.reverse()\n",
    "        [line.append(w) for index, w in words_to_pop]\n",
    "        line.reverse()\n",
    "        return line\n",
    "    else:\n",
    "        target_words = [(num, w, change_word(w)) for num, w in enumerate(line) if w[1] == 'word']\n",
    "        for index, word, synonyms in target_words:\n",
    "            syllables_word = count(word)[1]\n",
    "            for synonym in synonyms:\n",
    "                stressed, syllables_synonym = count(synonym)\n",
    "                if stressed in [1, 3, 4] and 12 <= (syllables_line - syllables_word + syllables_synonym) <= 17:\n",
    "                    line.pop(index)\n",
    "                    line.reverse()\n",
    "                    line.append((synonym, word[1], word[2]))\n",
    "                    line.reverse()\n",
    "                    break\n",
    "        if line == line_check:\n",
    "            return None\n",
    "        else:\n",
    "            return line"
   ]
  },
  {
   "cell_type": "markdown",
   "metadata": {},
   "source": [
    "### the last stress does not suit\n",
    "Исправление: находим первое с конца слово, ударение в котором падает на предпоследний слог и двигаем его в конец. Если слово является примером и перед ним шел другой пример, передвигаем их вместе.\n",
    "\n",
    "Если подходящих слов не нашлось, переходим к замене. Составляем список слов на замену: все они должны быть с пометкой word. Для каждого кандидата подбираем возможные синонимы. Перебираем синонимы и проверяем на два условия:\n",
    "\n",
    "* ударение падает на предпоследний слог\n",
    "* общее количество слогов в строке находится в диапазоне \\[12, 17\\]\n",
    "\n",
    "Первый подошедший синоним подставляем в начало конец, удалив оригинальное слово.\n",
    "\n",
    "В случае, если ничего не поможет, вернется None и программа выдаст ошибку."
   ]
  },
  {
   "cell_type": "code",
   "execution_count": 383,
   "metadata": {},
   "outputs": [],
   "source": [
    "def the_last_stress_does_not_suit(line, syllables_line):\n",
    "    line_check = deepcopy(line)\n",
    "    target_words = [(num, w) for num, w in enumerate(line) if (count(w[0])[1] - count(w[0])[0]) == 1]\n",
    "    if len(target_words) != 0:\n",
    "        target_words.reverse()\n",
    "        # учитываем, что до этого мы сделали допущение: внутри текста могут идти только !!!два!!! слова-примера подряд\n",
    "        target_index, target_word = target_words[0]\n",
    "        if target_word[1] == 'example' and line[target_index - 1][1] == 'example':\n",
    "            words_to_pop = [ (target_index, target_word), (target_index - 1, line[target_index - 1])]\n",
    "        else:\n",
    "            words_to_pop = [(target_index, target_word),]\n",
    "        [line.pop(index) for index, w in words_to_pop]\n",
    "        words_to_pop.reverse()\n",
    "        [line.append(w) for index, w in words_to_pop]\n",
    "        return line\n",
    "    else:\n",
    "        target_words = [(num, w, change_word(w)) for num, w in enumerate(line) if w[1] == 'word']\n",
    "        target_words.reverse()\n",
    "        for index, word, synonyms in target_words:\n",
    "            syllables_word = count(word)[1]\n",
    "            for synonym in synonyms:\n",
    "                stressed, syllables_synonym = count(synonym)\n",
    "                if (syllables_synonym - stressed) == 1 and 12 <= (syllables_line - syllables_word + syllables_synonym) <= 17:\n",
    "                    line.pop(index)\n",
    "                    line.append((synonym, word[1], word[2]))\n",
    "                    break\n",
    "        if line == line_check:\n",
    "            return None\n",
    "        else:\n",
    "            return line"
   ]
  },
  {
   "cell_type": "markdown",
   "metadata": {},
   "source": [
    "Исправление ошибок 4-ой проверки еще не прописано. На данный момент функция печатает None, если в строке недостаточно слов и их невозможно набрать, ломается при остальных ошибках 1, 2 и 3 проверок, если их невозможно исправить, просто переходит к набору следующей строки, если встречаются ошибки 4 проверки или строка является полностью верной."
   ]
  },
  {
   "cell_type": "markdown",
   "metadata": {},
   "source": [
    "### 4 проверка, примерный подход\n",
    "\n",
    "### wrong number of syllables between stresses\n",
    "\n",
    "Перестановки с подсчетом слогов между ударениями, при неудаче подключить замену. Пересмотр функции проверки stresses: стоит ли допустить пропуск не только 1, но и 2 ударных слогов? Количество слогов между ударными слогами возрастет с 5 максимально допустимых до 8.\n",
    "\n",
    "### wrong number of stresses\n",
    "\n",
    "Если получена эта ошибка, значит, все слова соответствуют назначенным критериям, кроме количества слогов в строке. Два случая:\n",
    "* слогов меньше, чем нужно: можем осуществить вставку в конец так, чтобы добрать необходимое количество слогов. Последнее ударение должно падать на предпоследний слог\n",
    "* слогов больше, чем нужно: поправить на этапе набора слов: невозможно использовать более 6 самостоятельных слов в строке? замена длинных слов на более короткие?"
   ]
  },
  {
   "cell_type": "code",
   "execution_count": 420,
   "metadata": {},
   "outputs": [],
   "source": [
    "def rewrite(preprocessed_text):\n",
    "    text_length = len(preprocessed_text)\n",
    "    lines = []\n",
    "    line = []\n",
    "    for index, word in enumerate(preprocessed_text):\n",
    "        line.append(word)\n",
    "            \n",
    "        stresses_line, syllables_line = count_line(line)\n",
    "        # функция, поймавшая ошибку, передала информацию о количестве слогов в строке\n",
    "        num_syllables, message = syllables_in_line(syllables_line)  # проверка 1/4\n",
    "        if message == 'too few syllables':\n",
    "            print(message, [w[0] for w in line])\n",
    "            continue\n",
    "        elif message == 'too many syllables':\n",
    "            print(message, [w[0] for w in line])\n",
    "            line = too_many_syllables(line, index, num_syllables, preprocessed_text)\n",
    "        elif message == 'syllables true':\n",
    "            print(message, [w[0] for w in line])\n",
    "            if ((text_length != index + 1)and((preprocessed_text[index][1] == 'example' and preprocessed_text[index + 1][1] == 'example')\n",
    "                or(preprocessed_text[index + 1][1] == 'punct'))):\n",
    "                print('more examples')\n",
    "                continue\n",
    "        \n",
    "        stresses_line, syllables_line = count_line(line)\n",
    "        # функция, поймавшая ошибку, передала информацию о расположении первого ударения\n",
    "        stress, message = first_stress(stresses_line) # проверка 2/4\n",
    "        if message == 'the first stress does not suit':\n",
    "            print(message, [w[0] for w in line])\n",
    "            line = the_first_stress_does_not_suit(line, syllables_line)\n",
    "            print([w[0] for w in line])\n",
    "        elif message == 'first stress true':\n",
    "            print([w[0] for w in line])\n",
    "        \n",
    "        stresses_line, syllables_line = count_line(line)\n",
    "        # функция, поймавшая ошибку, передала информацию о расположении последнего ударения\n",
    "        stress, message = last_stress(stresses_line, syllables_line) # проверка 3/4\n",
    "        if message == 'the last stress does not suit':\n",
    "            print(message, [w[0] for w in line])\n",
    "            line = the_last_stress_does_not_suit(line, syllables_line)\n",
    "            print([w[0] for w in line])\n",
    "        elif message == 'last stress true':\n",
    "            print(message, [w[0] for w in line])\n",
    "        \n",
    "        stresses_line, syllables_line = count_line(line)\n",
    "        info, message = stresses(stresses_line, syllables_line)\n",
    "        if message == 'wrong number of syllables between stresses':\n",
    "            print(message, [w[0] for w in line])\n",
    "            line = []\n",
    "        elif message == 'wrong number of stresses':\n",
    "            print(message, [w[0] for w in line])\n",
    "            line = []\n",
    "        elif message == 'true':\n",
    "            print(message, [w[0] for w in line])\n",
    "            line = []"
   ]
  },
  {
   "cell_type": "code",
   "execution_count": 421,
   "metadata": {},
   "outputs": [
    {
     "data": {
      "text/plain": [
       "'   Например, предложение  example Дом endexample   example стоит endexample   example на endexample   example горе endexample  состоит из четырех словоформ: 1)  example дом endexample , 2)  example стоит endexample , 3)  example на endexample , 4)  example горе endexample ; каждая из них имеет определенное значение, и при этом отрезки  example дом endexample ,  example стоит endexample  и  example на endexample   example горе endexample  свободно перемещаются:  example на endexample   example горе endexample   example стоит endexample   example дом endexample ;  example стоит endexample   example дом endexample   example на endexample   example горе endexample  и тому подобное, а отрезок  example на endexample   example горе endexample  может включать внутрь себя другие отрезки, характеризующиеся первым свойством ( example на endexample   example высокой endexample   example горе endexample ,  example на endexample   example очень endexample   example большой endexample   example горе endexample ) и, следовательно, не является одной словоформой.'"
      ]
     },
     "execution_count": 421,
     "metadata": {},
     "output_type": "execute_result"
    }
   ],
   "source": [
    "clean_text[7][0]"
   ]
  },
  {
   "cell_type": "code",
   "execution_count": 422,
   "metadata": {},
   "outputs": [],
   "source": [
    "new_text = final_preprocess(clean_text[7][0])"
   ]
  },
  {
   "cell_type": "code",
   "execution_count": 423,
   "metadata": {},
   "outputs": [
    {
     "name": "stdout",
     "output_type": "stream",
     "text": [
      "too few syllables ['Например']\n",
      "too few syllables ['Например', ',']\n",
      "too few syllables ['Например', ',', 'предложение']\n",
      "None\n",
      "Дом стоит на горе \n",
      "too few syllables ['состоит']\n",
      "too few syllables ['состоит', 'из четырех']\n",
      "too few syllables ['состоит', 'из четырех', 'словоформ']\n",
      "too few syllables ['состоит', 'из четырех', 'словоформ', ':']\n",
      "None\n",
      " 1) дом, 2) стоит, 3) на, 4) горе; \n",
      "too few syllables ['каждая']\n",
      "too few syllables ['каждая', 'из них']\n",
      "too few syllables ['каждая', 'из них', 'имеет']\n",
      "syllables true ['каждая', 'из них', 'имеет', 'определенное']\n",
      "['каждая', 'из них', 'имеет', 'определенное']\n",
      "the last stress does not suit ['каждая', 'из них', 'имеет', 'определенное']\n",
      "['каждая', 'из них', 'определенное', 'имеет']\n",
      "true ['каждая', 'из них', 'определенное', 'имеет']\n",
      "too few syllables ['значение']\n",
      "too few syllables ['значение', ',']\n",
      "too few syllables ['значение', ',', 'и']\n",
      "too few syllables ['значение', ',', 'и', 'при этом']\n",
      "too few syllables ['значение', ',', 'и', 'при этом', 'отрезки']\n",
      "None\n",
      "дом, стоит и на горе \n",
      "too few syllables ['свободно']\n",
      "too few syllables ['свободно', 'перемещаются']\n",
      "too few syllables ['свободно', 'перемещаются', ':']\n",
      "None\n",
      "на горе стоит дом; стоит дом на горе \n",
      "too few syllables ['и']\n",
      "too few syllables ['и', 'тому']\n",
      "too few syllables ['и', 'тому', 'подобное']\n",
      "too few syllables ['и', 'тому', 'подобное', ',']\n",
      "too few syllables ['и', 'тому', 'подобное', ',', 'а']\n",
      "too few syllables ['и', 'тому', 'подобное', ',', 'а', 'отрезок']\n",
      "syllables true ['и', 'тому', 'подобное', ',', 'а', 'отрезок', 'на горе']\n",
      "['и', 'тому', 'подобное', ',', 'а', 'отрезок', 'на горе']\n",
      "last stress true ['и', 'тому', 'подобное', ',', 'а', 'отрезок', 'на горе']\n",
      "true ['и', 'тому', 'подобное', ',', 'а', 'отрезок', 'на горе']\n",
      "too few syllables ['может']\n",
      "too few syllables ['может', 'включать']\n",
      "too few syllables ['может', 'включать', 'внутрь']\n",
      "too few syllables ['может', 'включать', 'внутрь', 'себя']\n",
      "too few syllables ['может', 'включать', 'внутрь', 'себя', 'другие']\n",
      "syllables true ['может', 'включать', 'внутрь', 'себя', 'другие', 'отрезки']\n",
      "more examples\n",
      "syllables true ['может', 'включать', 'внутрь', 'себя', 'другие', 'отрезки', ',']\n",
      "['может', 'включать', 'внутрь', 'себя', 'другие', 'отрезки', ',']\n",
      "last stress true ['может', 'включать', 'внутрь', 'себя', 'другие', 'отрезки', ',']\n",
      "wrong number of syllables between stresses ['может', 'включать', 'внутрь', 'себя', 'другие', 'отрезки', ',']\n",
      "too few syllables ['характеризующиеся']\n",
      "too few syllables ['характеризующиеся', 'первым']\n",
      "syllables true ['характеризующиеся', 'первым', 'свойством']\n",
      "the first stress does not suit ['характеризующиеся', 'первым', 'свойством']\n",
      "['первым', 'характеризующиеся', 'свойством']\n",
      "last stress true ['первым', 'характеризующиеся', 'свойством']\n",
      "wrong number of stresses ['первым', 'характеризующиеся', 'свойством']\n",
      "None\n",
      " (на высокой горе, на очень большой горе) \n",
      "too few syllables ['и']\n",
      "too few syllables ['и', ',']\n",
      "too few syllables ['и', ',', 'следовательно']\n",
      "too few syllables ['и', ',', 'следовательно', ',']\n",
      "too few syllables ['и', ',', 'следовательно', ',', 'не является']\n",
      "syllables true ['и', ',', 'следовательно', ',', 'не является', 'одной']\n",
      "the first stress does not suit ['и', ',', 'следовательно', ',', 'не является', 'одной']\n",
      "['следовательно', 'и', ',', ',', 'не является', 'одной']\n",
      "the last stress does not suit ['следовательно', 'и', ',', ',', 'не является', 'одной']\n",
      "['следовательно', ',', ',', 'не является', 'одной', 'и']\n",
      "wrong number of syllables between stresses ['следовательно', ',', ',', 'не является', 'одной', 'и']\n",
      "too few syllables ['словоформой']\n",
      "too few syllables ['словоформой', '.']\n",
      "None\n"
     ]
    }
   ],
   "source": [
    "for part, title in new_text:\n",
    "    if title == 'paragraph':\n",
    "        print(rewrite(part))\n",
    "    else:\n",
    "        print(part)"
   ]
  },
  {
   "cell_type": "markdown",
   "metadata": {},
   "source": [
    "### Возможные вставки:\n",
    "\n",
    "* к примеру\n",
    "    * при отсутствии \"например\", \"к примеру\" в тексте\n",
    "    * перед примерами"
   ]
  },
  {
   "cell_type": "markdown",
   "metadata": {},
   "source": [
    "### Ошибки:\n",
    "\n",
    "* неправильно расставленное ударение: гора/горе, не исправляется контекстуально\n",
    "* при серьезных перестановках страдает пунктуация. Стоит подумать над ограничениями по пунктуации (двигаться в пределах отрезков, отделенных точкой/запятой, лепить запятые к слову, которое ими окружено, так как велика вероятность того, что оно вводное)\n",
    "* (см. § N) не к месту, возможно, стоит выносить в конец сформированной строки, в которой встретилось указание."
   ]
  },
  {
   "cell_type": "code",
   "execution_count": 189,
   "metadata": {},
   "outputs": [
    {
     "data": {
      "text/plain": [
       "\"на высо'кой го'ре\""
      ]
     },
     "execution_count": 189,
     "metadata": {},
     "output_type": "execute_result"
    }
   ],
   "source": [
    "a.put_stress('на высокой горе')"
   ]
  }
 ],
 "metadata": {
  "kernelspec": {
   "display_name": "Python 3",
   "language": "python",
   "name": "python3"
  },
  "language_info": {
   "codemirror_mode": {
    "name": "ipython",
    "version": 3
   },
   "file_extension": ".py",
   "mimetype": "text/x-python",
   "name": "python",
   "nbconvert_exporter": "python",
   "pygments_lexer": "ipython3",
   "version": "3.8.3"
  }
 },
 "nbformat": 4,
 "nbformat_minor": 4
}
